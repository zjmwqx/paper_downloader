{
 "cells": [
  {
   "cell_type": "code",
   "execution_count": 1,
   "metadata": {},
   "outputs": [],
   "source": [
    "from selenium import webdriver\n",
    "from selenium.webdriver.support.ui import WebDriverWait\n",
    "from selenium.webdriver.common.by import By\n",
    "from selenium.webdriver.support import expected_conditions as EC\n",
    "import requests\n",
    "import os"
   ]
  },
  {
   "cell_type": "code",
   "execution_count": 41,
   "metadata": {
    "collapsed": true
   },
   "outputs": [],
   "source": [
    "def download_all_papers(base_url, save_dir, driver_path, start):\n",
    "    driver = webdriver.Chrome(driver_path)\n",
    "    driver.get(base_url)\n",
    "\n",
    "    if not os.path.exists(save_dir):\n",
    "        os.makedirs(save_dir)\n",
    "\n",
    "    # wait for the select element to become visible\n",
    "    wait = WebDriverWait(driver, 10)\n",
    "    res = wait.until(EC.presence_of_element_located((By.ID, \"notes\")))\n",
    "    print(\"Successful load the website!\")\n",
    "    # parse the results\n",
    "    divs = driver.find_elements_by_class_name('title_pdf_row')\n",
    "    num_papers = len(divs)\n",
    "    for index, paper in enumerate(divs):\n",
    "        if(index + 1 >= start):\n",
    "            name = paper.find_element_by_class_name('note_content_title').text\n",
    "            link = paper.find_element_by_class_name('note_content_pdf').get_attribute('href')\n",
    "            print('Downloading paper {}/{}: {}'.format(index+1, num_papers, name))\n",
    "            download_pdf(link, os.path.join(save_dir, name))\n",
    "    driver.close()"
   ]
  },
  {
   "cell_type": "code",
   "execution_count": 159,
   "metadata": {},
   "outputs": [],
   "source": [
    "def download_all_papers_iclr_new(base_url, save_dir, driver_path, start):\n",
    "    driver = webdriver.Chrome(driver_path)\n",
    "    driver.get(base_url)\n",
    "\n",
    "    if not os.path.exists(save_dir):\n",
    "        os.makedirs(save_dir)\n",
    "\n",
    "    # wait for the select element to become visible\n",
    "    wait = WebDriverWait(driver, 10)\n",
    "    res = wait.until(EC.presence_of_element_located((By.ID, \"notes\")))\n",
    "    print(\"Successful load the website!\")\n",
    "    # parse the results\n",
    "    cates = driver.find_elements_by_class_name('tab-pane')\n",
    "    for r in cates:\n",
    "        if('accepted-poster-papers' in r.get_attribute('id')):\n",
    "            print(\"starting \" + r.get_attribute('id'))\n",
    "            divs = r.find_elements_by_class_name('note')\n",
    "            num_papers = len(divs)\n",
    "            print(num_papers)\n",
    "            for index, paper in enumerate(divs):\n",
    "                if(index + 1 >= start):\n",
    "                    name = paper.find_element_by_tag_name('h4').find_element_by_tag_name('a').get_attribute('text').strip()\n",
    "                    link = paper.find_element_by_class_name('pdf-link').get_attribute('href')\n",
    "                    print('Downloading paper {}/{}: {}'.format(index+1, num_papers, name))\n",
    "                    download_pdf(link, os.path.join(save_dir, name))\n",
    "    driver.close()"
   ]
  },
  {
   "cell_type": "code",
   "execution_count": 160,
   "metadata": {
    "collapsed": true
   },
   "outputs": [],
   "source": [
    "def download_pdf(url, name):\n",
    "    r = requests.get(url, stream=True)\n",
    "\n",
    "    with open('%s.pdf' % name, 'wb') as f:\n",
    "        for chunck in r.iter_content(1024):\n",
    "            f.write(chunck)\n",
    "    r.close()\n"
   ]
  },
  {
   "cell_type": "code",
   "execution_count": 161,
   "metadata": {
    "collapsed": true
   },
   "outputs": [],
   "source": [
    "ICLR = 'https://openreview.net/group?id=ICLR.cc/2018/Conference'"
   ]
  },
  {
   "cell_type": "code",
   "execution_count": 162,
   "metadata": {
    "collapsed": true
   },
   "outputs": [],
   "source": [
    "# NIPS = 'https://openreview.net/group?id=NIPS.cc/2016/Deep_Learning_Symposium'\n",
    "# ICLR = 'https://openreview.net/group?id=ICLR.cc/2018/conference'\n",
    "# driver_path = '/Users/zhoujimin/Workspace/paper_downloader/chromedriver'\n",
    "save_dir_iclr = '/Users/zhoujimin/Workspace/paper_downloader/iclr2018/accept/'"
   ]
  },
  {
   "cell_type": "code",
   "execution_count": 171,
   "metadata": {
    "scrolled": false
   },
   "outputs": [
    {
     "name": "stdout",
     "output_type": "stream",
     "text": [
      "Successful load the website!\n",
      "starting accepted-poster-papers\n",
      "314\n",
      "Downloading paper 283/314: Latent Constraints: Learning to Generate Conditionally from Unconditional Generative Models\n",
      "Downloading paper 284/314: Mixed Precision Training\n",
      "Downloading paper 285/314: The Kanerva Machine: A Generative Distributed Memory\n",
      "Downloading paper 286/314: Improving GANs Using Optimal Transport\n",
      "Downloading paper 287/314: An Online Learning Approach to Generative Adversarial Networks\n",
      "Downloading paper 288/314: Generalizing Hamiltonian Monte Carlo with Neural Networks\n",
      "Downloading paper 289/314: Minimax Curriculum Learning: Machine Teaching with Desirable Difficulties and Scheduled Diversity\n",
      "Downloading paper 290/314: Graph Attention Networks\n",
      "Downloading paper 291/314: Stabilizing Adversarial Nets with Prediction Methods\n",
      "Downloading paper 292/314: Enhancing The Reliability of Out-of-distribution Image Detection in Neural Networks\n",
      "Downloading paper 293/314: Polar Transformer Networks\n",
      "Downloading paper 294/314: Decoupling the Layers in Residual Networks\n",
      "Downloading paper 295/314: Auto-Conditioned Recurrent Networks for Extended Complex Human Motion Synthesis\n",
      "Downloading paper 296/314: Espresso: Efficient Forward Propagation for Binary Deep Neural Networks\n",
      "Downloading paper 297/314: Efficient Sparse-Winograd Convolutional Neural Networks\n",
      "Downloading paper 298/314: Leveraging Grammar and Reinforcement Learning for Neural Program Synthesis\n",
      "Downloading paper 299/314: Hyperparameter optimization: a spectral approach\n",
      "Downloading paper 300/314: Imitation Learning from Visual Data with Multiple Intentions\n",
      "Downloading paper 301/314: Latent Space Oddity: on the Curvature of Deep Generative Models\n",
      "Downloading paper 302/314: Fidelity-Weighted Learning\n",
      "Downloading paper 303/314: Semantic Interpolation in Implicit Models\n",
      "Downloading paper 304/314: Deep Bayesian Bandits Showdown:  An Empirical Comparison of Bayesian Deep Networks for Thompson Sampling\n",
      "Downloading paper 305/314: Multi-View Data Generation Without View Supervision\n",
      "Downloading paper 306/314: Unsupervised Learning of Goal Spaces for Intrinsically Motivated Goal Exploration\n",
      "Downloading paper 307/314: Learning an Embedding Space for Transferable Robot Skills\n",
      "Downloading paper 308/314: Learning Latent Permutations with Gumbel-Sinkhorn Networks\n",
      "Downloading paper 309/314: Deep Learning with Logged Bandit Feedback\n",
      "Downloading paper 310/314: A Neural Representation of Sketch Drawings\n",
      "Downloading paper 311/314: Model-Ensemble Trust-Region Policy Optimization\n",
      "Downloading paper 312/314: TRUNCATED HORIZON POLICY SEARCH: COMBINING REINFORCEMENT LEARNING & IMITATION LEARNING\n",
      "Downloading paper 313/314: Large Scale Optimal Transport and Mapping Estimation\n",
      "Downloading paper 314/314: Minimal-Entropy Correlation Alignment for Unsupervised Deep Domain Adaptation\n"
     ]
    }
   ],
   "source": [
    "download_all_papers_iclr_new(ICLR, save_dir_iclr, driver_path, 283)"
   ]
  },
  {
   "cell_type": "code",
   "execution_count": null,
   "metadata": {
    "collapsed": true
   },
   "outputs": [],
   "source": [
    "if __name__ == '__main__':\n",
    "    NIPS = 'https://openreview.net/group?id=NIPS.cc/2016/Deep_Learning_Symposium'\n",
    "    ICLR = 'https://openreview.net/group?id=ICLR.cc/2017/conference'\n",
    "    driver_path = '/Users/zhoujimin/Workspace/paper_downloader/chromedriver'\n",
    "    save_dir_iclr = '/Users/zhoujimin/Workspace/paper_downloader/iclr'\n",
    "    download_all_papers(ICLR, save_dir_iclr, driver_path)"
   ]
  }
 ],
 "metadata": {
  "kernelspec": {
   "display_name": "Python 3",
   "language": "python",
   "name": "python3"
  },
  "language_info": {
   "codemirror_mode": {
    "name": "ipython",
    "version": 3
   },
   "file_extension": ".py",
   "mimetype": "text/x-python",
   "name": "python",
   "nbconvert_exporter": "python",
   "pygments_lexer": "ipython3",
   "version": "3.6.2"
  }
 },
 "nbformat": 4,
 "nbformat_minor": 2
}
